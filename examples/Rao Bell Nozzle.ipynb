{
 "cells": [
  {
   "cell_type": "markdown",
   "metadata": {},
   "source": [
    "# Rao Bell Nozzle Example\n",
    "\n",
    "The key feature demonstrated here is the `bamboo.rao` module, which lets you generated Rao bell nozzle geometries."
   ]
  },
  {
   "cell_type": "code",
   "execution_count": 1,
   "metadata": {},
   "outputs": [],
   "source": [
    "# Import required modules\n",
    "import bamboo as bam\n",
    "import numpy as np\n",
    "import matplotlib.pyplot as plt"
   ]
  },
  {
   "cell_type": "markdown",
   "metadata": {},
   "source": [
    "### Generate Rao Nozzle Contour\n",
    "\n",
    "We need to specify:\n",
    "- Chamber radius, `r_c`\n",
    "- Throat radius, `r_t`\n",
    "- Area ratio of the nozzle (A_exit / A_throat), `area_ratio`\n",
    "- Length of the combustion chamber (up to the beginning of the nozzle converging section), `L_c`\n",
    "- Angle of the nozzle converging section, `theta_conv`. Defaults to 45 deg.\n",
    "\n",
    "The `bam.rao.get_rao_contour` function will return `xs, rs`, which can be used as the input for a `bamboo.engine.Geometry` object. The `xs` and `rs` lists will contain 500 datapoints each."
   ]
  },
  {
   "cell_type": "code",
   "execution_count": 2,
   "metadata": {},
   "outputs": [
    {
     "data": {
      "image/png": "[encoded data removed]",
      "text/plain": [
       "<Figure size 432x288 with 1 Axes>"
      ]
     },
     "metadata": {
      "needs_background": "light"
     },
     "output_type": "display_data"
    }
   ],
   "source": [
    "# Nozzle properties\n",
    "r_c = 0.045        # Chamber radius (m)\n",
    "r_t = 0.02         # Throat radius (m)\n",
    "area_ratio = 8    # Area ratio (A_exit / A_throat)\n",
    "L_c = 0.10         # Length of chamber (up to beginning of nozzle converging section) (m)\n",
    "theta_conv = 45   # Angle of converging section (deg)\n",
    "\n",
    "# Get the contour\n",
    "xs, rs = bam.rao.get_rao_contour(r_c = r_c, \n",
    "                                 r_t = r_t, \n",
    "                                 area_ratio = area_ratio, \n",
    "                                 L_c = L_c, \n",
    "                                 theta_conv = theta_conv)\n",
    "\n",
    "plt.plot(xs, rs, color = \"blue\")\n",
    "plt.plot(xs, -np.array(rs), color = \"blue\")\n",
    "plt.xlabel(\"x (m)\")\n",
    "plt.ylabel(\"y (m)\")\n",
    "plt.title(\"Rao Bell Nozzle\")\n",
    "plt.axis('equal')\n",
    "plt.grid()\n",
    "plt.show()"
   ]
  },
  {
   "cell_type": "code",
   "execution_count": null,
   "metadata": {},
   "outputs": [],
   "source": []
  }
 ],
 "metadata": {
  "kernelspec": {
   "display_name": "Python 3",
   "language": "python",
   "name": "python3"
  },
  "language_info": {
   "codemirror_mode": {
    "name": "ipython",
    "version": 3
   },
   "file_extension": ".py",
   "mimetype": "text/x-python",
   "name": "python",
   "nbconvert_exporter": "python",
   "pygments_lexer": "ipython3",
   "version": "3.8.8"
  }
 },
 "nbformat": 4,
 "nbformat_minor": 4
}
