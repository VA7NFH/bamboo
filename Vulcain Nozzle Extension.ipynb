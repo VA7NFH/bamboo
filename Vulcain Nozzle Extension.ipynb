{
 "cells": [
  {
   "cell_type": "markdown",
   "metadata": {},
   "source": [
    "# Vulcain Nozzle Extension\n",
    "\n",
    "This is an extension of the 'Vulcain Combustion Chamber.ipynb' notebook, but here we will attempt to model the dump-cooled nozzle extension here. <b> The key thing to note is that the nozzle extension using <u>spiralling</u> channels</b>.\n",
    "\n",
    "Note:\n",
    "The cooling channels taper at the coolant inlet, which must be accounted to consider the extra heat transfer in this section. I have not been able to find details on the taper except an undefined dimension in [2], which I assume to have been a square 'width x height' of 2.8x4 mm.\n",
    "\n",
    "\n",
    "### References:\n",
    "\n",
    "- [1] - Kirner et al 1993, Development Status of the Vulcain Thrust Chamber (http://ftp.demec.ufpr.br/CFD/bibliografia/propulsao/kirner_et_al_1993.pdf)\n",
    "- [2] - Nydén et al 1991, Development of the HM60-Vulcain nozzle extension (https://arc.aiaa.org/doi/10.2514/6.1991-2566)\n",
    "- [3] - LeBail et al 1993, Numerical analysis of high aspect ratio cooling passage flow and heat transfer (https://arc.aiaa.org/doi/pdf/10.2514/6.1993-1829)\n",
    "- [4] - Special Metals, Inconel 600, (https://www.specialmetals.com/documents/technical-bulletins/inconel/)\n",
    "- [5] - Ljungkrona et all 1998, Cooling Performance of the Nozzle Extension of the Ariane 5 Core Stage Engine Vulcain (https://arc.aiaa.org/doi/10.2514/6.1998-4012)"
   ]
  },
  {
   "cell_type": "code",
   "execution_count": 1,
   "metadata": {},
   "outputs": [],
   "source": [
    "import bamboo as bam\n",
    "import pypropep as ppp\n",
    "from CoolProp.CoolProp import PropsSI\n",
    "import cantera as ct\n",
    "import matplotlib.pyplot as plt\n",
    "import numpy as np\n",
    "import json"
   ]
  },
  {
   "cell_type": "markdown",
   "metadata": {},
   "source": [
    "### Collect Vulcain data\n",
    "\n",
    "Using a an online graph image-to-data converter (http://www.graphreader.com/), we can obtain the raw data."
   ]
  },
  {
   "cell_type": "code",
   "execution_count": 2,
   "metadata": {},
   "outputs": [],
   "source": [
    "data = json.load(open(\"data/vulcain.json\"))\n",
    "\n",
    "# Chamber conditions data\n",
    "thrust = 1007.7e3   # Vacuum thrust, N [1]\n",
    "isp = 439*9.81      # Specific impulse, m/s [1]\n",
    "pc = 100e5          # Chamber pressure, bar [1]\n",
    "OF_ratio = 5.6      # O/F ratio (seems to be by mass) [1]\n",
    "\n",
    "# Cooling channel data\n",
    "coolant_inlet_p0 = 137.9e5          # Coolant inlet pressure [3] (guess that p0 ~= p)\n",
    "mdot_coolant = 1.75                 # Coolant mass flow rate [2] \n",
    "k_wall = 20.5                       # Wall thermal conductivity [4] for Inconel 600 [1]. Use the value for 400 deg C.\n",
    "wall_thickness = 0.4e-3             # Wall thickness between coolant and exhaust gas [2]\n",
    "number_of_channels = 456            # Number of channels [2]\n",
    "channel_height = 3.2e-3             # Height of cooling channels [2]\n",
    "\n",
    "# Fraction of cooling channel flow area that is blocked by fins/walls [2]\n",
    "x_taper_start = data[\"Kirner\"][\"Extension Contour\"][\"x\"][0]\n",
    "x_taper_end = np.interp(0.15, \n",
    "                        [0, 4.15], \n",
    "                        [data[\"Kirner\"][\"Extension Contour\"][\"x\"][0], data[\"Kirner\"][\"Extension Contour\"][\"x\"][-1]])\n",
    "\n",
    "def blockage_ratio(x):  \n",
    "    if x < x_taper_end:\n",
    "        return 0.2857     # (0.4 + 0.4) / 2.8\n",
    "    else:    \n",
    "        return 0.2        # (0.4 + 0.4) / 4                \n",
    "    \n",
    "# Cooling channel helix pitch [2] - number of tubes * width of each tube\n",
    "def channel_width(x):\n",
    "    if x < x_taper_end:\n",
    "        return  2.8e-3       \n",
    "    else:    \n",
    "        return 4e-3              "
   ]
  },
  {
   "cell_type": "markdown",
   "metadata": {},
   "source": [
    "### Get chamber conditions\n",
    "\n",
    "Use pypropep. The Vulcain uses a liquid oxygen and liquid hydrogen fed system."
   ]
  },
  {
   "cell_type": "code",
   "execution_count": 3,
   "metadata": {},
   "outputs": [
    {
     "name": "stdout",
     "output_type": "stream",
     "text": [
      "Loaded 1921 thermo species\n",
      "Loaded 1031 propellants\n",
      "Chamber temperature = 3459.2606127242298 K\n",
      "\n",
      "Combustion product composition:\n",
      "[('H2O', 0.6493671319106238), ('H2', 0.2896925690851782), ('OH', 0.028980423622929952), ('H', 0.028801796474919292), ('O', 0.0016810512414820072), ('O2', 0.0014520541971763574), ('HO2', 1.7031381331243065e-05), ('H2O2', 7.94208687267654e-06), ('O3', 0.0)]\n"
     ]
    }
   ],
   "source": [
    "# Use pypropep to get chamber temperature\n",
    "ppp.init()\n",
    "p_froz = ppp.FrozenPerformance()\n",
    "lox = ppp.PROPELLANTS['OXYGEN (LIQUID)']\n",
    "lh2 = ppp.PROPELLANTS['HYDROGEN (CRYOGENIC)']\n",
    "\n",
    "# Add propellants by mass fractions\n",
    "p_froz.add_propellants_by_mass([(lox, OF_ratio), (lh2, 1)])\n",
    "\n",
    "# Adiabatic combustion using chamber pressure                      \n",
    "p_froz.set_state(P = pc/1e5, Pe = 1)   \n",
    "\n",
    "# Get results - use throat conditions for gamma and cp! Otherwise the perfect gas model deviates a lot from equilibrium calculations.\n",
    "gamma = p_froz.properties[1].Isex   # pyrpopep uses 'Isex' for the ratio of specific heats. Index 1 means throat conditions\n",
    "cp = 1000*p_froz.properties[1].Cp   # Cp is given in kJ/kg/K, we want J/kg/K\n",
    "Tc = p_froz.properties[0].T         # Index 0 means chamber conditions\n",
    "\n",
    "print(f\"Chamber temperature = {Tc} K\")\n",
    "\n",
    "print(\"\\nCombustion product composition:\")\n",
    "print(p_froz.composition[\"throat\"])"
   ]
  },
  {
   "cell_type": "markdown",
   "metadata": {},
   "source": [
    "### Bamboo engine model\n",
    "\n",
    "First set up the perfect gas model, the geometry, and combustion chamber conditions. Use this to get the mass flow rate of exhaust gas."
   ]
  },
  {
   "cell_type": "code",
   "execution_count": 4,
   "metadata": {},
   "outputs": [],
   "source": [
    "# Set up the chamber conditions and geometry\n",
    "perfect_gas = bam.PerfectGas(gamma = gamma, cp = cp)   \n",
    "chamber_conditions = bam.ChamberConditions(p0 = pc, T0 = Tc)\n",
    "geometry = bam.Geometry(xs = data[\"Kirner\"][\"Engine Contour\"][\"x\"], \n",
    "                        rs = data[\"Kirner\"][\"Engine Contour\"][\"y\"])\n",
    "\n",
    "# Set up an engine quickly just to get our perfect gas mass flow rate (used later)\n",
    "engine = bam.Engine(perfect_gas = perfect_gas, \n",
    "                    chamber_conditions = chamber_conditions, \n",
    "                    geometry = geometry)"
   ]
  },
  {
   "cell_type": "markdown",
   "metadata": {},
   "source": [
    "Now use Cantera to get the exhaust gas transport properties, and CoolProp to get the coolant transport properties."
   ]
  },
  {
   "cell_type": "code",
   "execution_count": 5,
   "metadata": {},
   "outputs": [],
   "source": [
    "# Setup the exhaust gas transport properties using Cantera\n",
    "gas = ct.Solution('gri30.yaml')\n",
    "gas.TPY = Tc, pc, f\"H2:{1}, O2:{OF_ratio}\"\n",
    "gas.equilibrate(\"TP\")\n",
    "\n",
    "def mu_exhaust(T, p):\n",
    "    gas.TP = T, p\n",
    "    return gas.viscosity\n",
    "\n",
    "def k_exhaust(T, p):\n",
    "    gas.TP = T, p\n",
    "    return gas.thermal_conductivity\n",
    "\n",
    "def Pr_exhaust(T, p):\n",
    "    gas.TP = T, p\n",
    "    return gas.cp * gas.viscosity / gas.thermal_conductivity # Definition of Prandtl number\n",
    "\n",
    "exhaust_transport = bam.TransportProperties(Pr = Pr_exhaust,\n",
    "                                            mu = mu_exhaust,\n",
    "                                            k = k_exhaust)\n",
    "\n",
    "# Set up the coolant transport properties using CoolProp\n",
    "# Round temperatures up to 12 K - CoolProp seems unhappy below this for LH2\n",
    "def Pr_coolant(T, p):\n",
    "    return PropsSI(\"PRANDTL\", \"T\", T, \"P\", p, \"HYDROGEN\")\n",
    "\n",
    "def mu_coolant(T, p):\n",
    "    return PropsSI(\"VISCOSITY\", \"T\", T, \"P\", p, \"HYDROGEN\")\n",
    "\n",
    "def k_coolant(T, p):\n",
    "    return PropsSI(\"CONDUCTIVITY\", \"T\", T, \"P\", p, \"HYDROGEN\")\n",
    "\n",
    "def cp_coolant(T, p):\n",
    "    return PropsSI(\"CPMASS\", \"T\", T, \"P\", p, \"HYDROGEN\")\n",
    "\n",
    "def rho_coolant(T, p):\n",
    "    return PropsSI(\"DMASS\", \"T\", T, \"P\", p, \"HYDROGEN\") \n",
    "\n",
    "# Note that H2 doesn't seem to exactly 'boil-off' in the state it's in - it's supercritical\n",
    "coolant_transport = bam.TransportProperties(Pr = Pr_coolant,\n",
    "                                            mu = mu_coolant,\n",
    "                                            k = k_coolant,\n",
    "                                            cp = cp_coolant,\n",
    "                                            rho = rho_coolant)"
   ]
  },
  {
   "cell_type": "markdown",
   "metadata": {},
   "source": [
    "Put the final pieces together, set up the `Engine` object, and plot the geometry."
   ]
  },
  {
   "cell_type": "code",
   "execution_count": 6,
   "metadata": {},
   "outputs": [],
   "source": [
    "cooling_jacket = bam.CoolingJacket(T_coolant_in = data[\"Kirner\"][\"Extension Coolant Temperature (Sim)\"][\"y\"][0],                           \n",
    "                                   p_coolant_in = coolant_inlet_p0, \n",
    "                                   coolant_transport = coolant_transport, \n",
    "                                   mdot_coolant = mdot_coolant, \n",
    "                                   configuration = \"spiral\", \n",
    "                                   channel_height = channel_height,\n",
    "                                   number_of_channels = number_of_channels,\n",
    "                                   blockage_ratio = blockage_ratio,\n",
    "                                   channel_width = channel_width,\n",
    "                                   xs = [data[\"Kirner\"][\"Extension Contour\"][\"x\"][0], \n",
    "                                         data[\"Kirner\"][\"Extension Contour\"][\"x\"][-1]])\n",
    "\n",
    "wall = bam.Wall(material = bam.Material(k = k_wall), thickness = wall_thickness)\n",
    "\n",
    "engine = bam.Engine(perfect_gas = perfect_gas, \n",
    "                    chamber_conditions = chamber_conditions, \n",
    "                    geometry = geometry,\n",
    "                    cooling_jacket = cooling_jacket,\n",
    "                    exhaust_transport = exhaust_transport,\n",
    "                    walls = wall,\n",
    "                    coolant_convection = \"gnielinski\",\n",
    "                    exhaust_convection = \"bartz-sigma\",\n",
    "                    h_exhaust_sf = 1,\n",
    "                    h_coolant_sf = 1)"
   ]
  },
  {
   "cell_type": "code",
   "execution_count": 7,
   "metadata": {},
   "outputs": [
    {
     "data": {
      "image/png": "[encoded data removed]",
      "text/plain": [
       "<Figure size 432x288 with 1 Axes>"
      ]
     },
     "metadata": {
      "needs_background": "light"
     },
     "output_type": "display_data"
    }
   ],
   "source": [
    "# Run simulation\n",
    "bamboo_results = engine.steady_heating_analysis(counterflow = False, num_grid = 2000)\n",
    "engine.plot()\n",
    "plt.title(\"Bamboo Engine Geometry\")\n",
    "plt.show()"
   ]
  },
  {
   "cell_type": "code",
   "execution_count": 8,
   "metadata": {},
   "outputs": [
    {
     "name": "stdout",
     "output_type": "stream",
     "text": [
      "Static temperature at each position (K). T[i][j], is the temperature at x[i], at the j'th wall boundary. j = 0 corresponds to the coolant, j = -1 corresponds to the exhaust gas.\n"
     ]
    }
   ],
   "source": [
    "print(bamboo_results[\"info\"][\"T\"])"
   ]
  },
  {
   "cell_type": "code",
   "execution_count": 9,
   "metadata": {
    "scrolled": false
   },
   "outputs": [
    {
     "name": "stdout",
     "output_type": "stream",
     "text": [
      "Experimental coolant exit temperature (Kirner) = 871.91 K\n",
      "Predicted coolant exit temperature (Bamboo) = 905.26 K\n",
      "Percentage error in coolant exit temperature = 3.82%\n",
      "\n"
     ]
    },
    {
     "data": {
      "image/png": "[encoded data removed]",
      "text/plain": [
       "<Figure size 432x288 with 1 Axes>"
      ]
     },
     "metadata": {
      "needs_background": "light"
     },
     "output_type": "display_data"
    }
   ],
   "source": [
    "# Plot coolant temperatures\n",
    "bam.plot.plot_temperatures(bamboo_results, only_indexes = [0])\n",
    "\n",
    "plt.plot(data[\"Kirner\"][\"Extension Coolant Temperature (Sim)\"][\"x\"], \n",
    "        data[\"Kirner\"][\"Extension Coolant Temperature (Sim)\"][\"y\"], \n",
    "        label = \"Kirner Sim.\", \n",
    "        color= \"blue\")\n",
    "\n",
    "plt.scatter(data[\"Kirner\"][\"Extension Coolant Temperature (Exp)\"][\"x\"],\n",
    "           data[\"Kirner\"][\"Extension Coolant Temperature (Exp)\"][\"y\"], \n",
    "           s = 40, \n",
    "           marker = 'o', \n",
    "           color = \"blue\",\n",
    "           label = \"Kirner Exp.\")\n",
    "\n",
    "plt.scatter(data[\"Ljungkrona\"][\"Extension Coolant Temperature (Exp)\"][\"x\"], \n",
    "           data[\"Ljungkrona\"][\"Extension Coolant Temperature (Exp)\"][\"y\"], \n",
    "           s = 40, \n",
    "           marker = 'x', \n",
    "           color = \"blue\",\n",
    "           label = \"Ljungkrona Exp.\")\n",
    "\n",
    "plt.legend()\n",
    "plt.legend()\n",
    "\n",
    "print(f'Experimental coolant exit temperature (Kirner) = {data[\"Kirner\"][\"Extension Coolant Temperature (Exp)\"][\"y\"][-1]:.2f} K')\n",
    "print(f'Predicted coolant exit temperature (Bamboo) = {bamboo_results[\"T_coolant\"][-1]:.2f} K')\n",
    "percent_error = 100*(bamboo_results[\"T_coolant\"][-1] - data[\"Kirner\"][\"Extension Coolant Temperature (Exp)\"][\"y\"][-1])/data[\"Kirner\"][\"Extension Coolant Temperature (Exp)\"][\"y\"][-1]\n",
    "print(f'Percentage error in coolant exit temperature = {abs(percent_error):.2f}%\\n')"
   ]
  },
  {
   "cell_type": "code",
   "execution_count": null,
   "metadata": {},
   "outputs": [],
   "source": []
  }
 ],
 "metadata": {
  "kernelspec": {
   "display_name": "Python 3",
   "language": "python",
   "name": "python3"
  },
  "language_info": {
   "codemirror_mode": {
    "name": "ipython",
    "version": 3
   },
   "file_extension": ".py",
   "mimetype": "text/x-python",
   "name": "python",
   "nbconvert_exporter": "python",
   "pygments_lexer": "ipython3",
   "version": "3.8.8"
  }
 },
 "nbformat": 4,
 "nbformat_minor": 4
}
