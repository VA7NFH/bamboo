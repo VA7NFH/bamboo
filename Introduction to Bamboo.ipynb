{
 "cells": [
  {
   "cell_type": "markdown",
   "metadata": {},
   "source": [
    "# Introduction to Bamboo\n",
    "\n",
    "Bamboo is Python package for modelling the cooling systems of liquid rocket engines. \n",
    "\n",
    "Most of its functionality revolves around the bamboo.main.Engine class. Full documentation is available at https://cuspaceflight.github.io/bamboo/."
   ]
  },
  {
   "cell_type": "markdown",
   "metadata": {},
   "source": [
    "## Simple Engine Example\n",
    "\n",
    "We will start with an example of creating an Engine. \n",
    "\n",
    "To create an Engine object, we need to first create three sub-objects: \n",
    "- A <b>PerfectGas</b> object\n",
    "- A <b>ChamberConditions</b> object\n",
    "- A <b>Nozzle</b> object\n",
    "\n",
    "But we begin by importing bamboo and specifying the operating conditions for our engine."
   ]
  },
  {
   "cell_type": "code",
   "execution_count": 1,
   "metadata": {},
   "outputs": [],
   "source": [
    "import bamboo as bam\n",
    "\n",
    "'''Chosen operating points'''\n",
    "mdot = 4.757        #Mass flow rate (kg/s)\n",
    "p_amb = 1.01325e5   #Ambient pressure (Pa). \n",
    "pc = 10e5           #Chamber pressure (Pa)\n",
    "\n",
    "'''From ProPEP 3 I got the following data on my exhaust gas'''\n",
    "gamma = 1.264               #Ratio of specific heats cp/cv (used to specify our PerfectGas object)\n",
    "molecular_weight = 21.627   #Molecular weight of the exhaust gas (kg/kmol) (used to specify our PerfectGas object)\n",
    "Tc = 2458.89                #Chamber temperature (K) - obtained from ProPEP 3"
   ]
  },
  {
   "cell_type": "markdown",
   "metadata": {},
   "source": [
    "### Specifying the PerfectGas and ChamberConditions\n",
    "\n",
    "To define our perfect gas, we must specify two of its properties. See the documentation available options. As of writing, the available keyword arguments are 'gamma', 'molecular_weight' and 'cp'.\n",
    "\n",
    "To define our ChamberConditions, we need the mass flow rate 'mdot', the chamber stagnation pressure 'p0', and the chamber stagnation temperature 'T0'."
   ]
  },
  {
   "cell_type": "code",
   "execution_count": 2,
   "metadata": {},
   "outputs": [],
   "source": [
    "perfect_gas = bam.PerfectGas(gamma = gamma, molecular_weight = molecular_weight)\n",
    "chamber = bam.ChamberConditions(pc, Tc, mdot)"
   ]
  },
  {
   "cell_type": "markdown",
   "metadata": {},
   "source": [
    "### Specifying the Nozzle\n",
    "\n",
    "To define the Nozzle, we have two options. \n",
    "- Directly specify the throat and exit area (At and Ae respectively)\n",
    "- Use the Nozzle.from_engine_components() method, which will select At to just choke the nozzle, and Ae to match a given exit pressure, 'p_amb'. \n",
    "\n",
    "(The 'WARNING: Area ratio is outside the range of the Rao [...] data' message is not problematic. By default the program will try to create a Rao bell nozzle, but the data for such nozzles is unavailable for very large or small area ratios. In either of these cases, <b> the software simply uses an exit angle of 15 degrees</b>)."
   ]
  },
  {
   "cell_type": "code",
   "execution_count": 6,
   "metadata": {},
   "outputs": [
    {
     "name": "stdout",
     "output_type": "stream",
     "text": [
      "WARNING: Area ratio is outside the range of the Rao inflection angle data, returning 15 deg instead.\n",
      "WARNING: Area ratio is outside the range of the Rao exit angle data, returning 14.999 deg instead.\n"
     ]
    },
    {
     "data": {
      "image/png": "[encoded data removed]",
      "text/plain": [
       "<Figure size 432x288 with 1 Axes>"
      ]
     },
     "metadata": {
      "needs_background": "light"
     },
     "output_type": "display_data"
    },
    {
     "name": "stdout",
     "output_type": "stream",
     "text": [
      "Rao type nozzle (length fraction = 0.8). \n",
      "Length = 0.06421000613621163 m \n",
      "Throat area = 0.007000596639641742 m^2 \n",
      "Exit area = 0.014832425713316083 m^2 \n",
      "Area ratio = 2.1187373700872354 \n",
      "Rao inflection angle = 14.999999999999998 deg \n",
      "Rao exit angle = 14.999 deg\n"
     ]
    }
   ],
   "source": [
    "import matplotlib.pyplot as plt\n",
    "\n",
    "#Directly specifying At and Ae\n",
    "\n",
    "'''\n",
    "chosen_At = 0.007\n",
    "chosen_Ae = 0.05\n",
    "\n",
    "nozzle = bam.Nozzle(chosen_At, chosen_Ae, type = \"rao\", length_fraction = 0.8)\n",
    "nozzle.plot_nozzle()\n",
    "plt.title(\"Directly specified throat and exit area\")\n",
    "plt.show()\n",
    "'''\n",
    "\n",
    "#Deriving Ae and At from the operating conditions and exit pressure\n",
    "nozzle = bam.Nozzle.from_engine_components(perfect_gas, chamber, p_amb, type = \"rao\", length_fraction = 0.8)\n",
    "nozzle.plot_nozzle()\n",
    "plt.title(\"Derive nozzle dimensions from exhaust gas, chamber conditions, and exit pressure\")\n",
    "plt.show()\n",
    "\n",
    "#Print the nozzle parameters\n",
    "print(nozzle)"
   ]
  },
  {
   "cell_type": "markdown",
   "metadata": {},
   "source": [
    "### Creating the Engine object\n",
    "\n",
    "We can now create the Engine object with relative ease:"
   ]
  },
  {
   "cell_type": "code",
   "execution_count": 7,
   "metadata": {},
   "outputs": [],
   "source": [
    "engine = bam.Engine(perfect_gas, chamber, nozzle)"
   ]
  },
  {
   "cell_type": "markdown",
   "metadata": {},
   "source": [
    "We can now get some properties of the Engine:\n",
    "\n",
    "(note that almost all calculations made with the engine assume isentropic, 1-dimensional, perfect gas relations. Hence, the results may be different to those calculated using reacting flow e.g. from NASA's CEA, or ProPEP)."
   ]
  },
  {
   "cell_type": "code",
   "execution_count": 9,
   "metadata": {},
   "outputs": [
    {
     "name": "stdout",
     "output_type": "stream",
     "text": [
      "Sea level thrust = 8.843291394292795 kN\n",
      "Sea level Isp = 189.56585265605534 s\n",
      "\n",
      "Throat pressure = 5.523188113751419 bar\n",
      "Throat temperature = 1899.0143109540631 °C\n",
      "Throat Mach number = 1.0\n",
      "\n",
      "Exit pressure = 1.013249999999998 bar\n",
      "Exit temperature = 1251.1565550494934 °C\n",
      "Exit Mach number = 2.1551917585508087\n"
     ]
    }
   ],
   "source": [
    "print(f\"Sea level thrust = {engine.thrust(1e5)/1000} kN\")\n",
    "print(f\"Sea level Isp = {engine.isp(1e5)} s\")\n",
    "\n",
    "print(f\"\\nThroat pressure = {engine.p(0)/1e5} bar\")\n",
    "print(f\"Throat temperature = {engine.T(0) - 273.15} °C\")\n",
    "print(f\"Throat Mach number = {engine.M(0)}\")\n",
    "\n",
    "print(f\"\\nExit pressure = {engine.p(nozzle.length)/1e5} bar\")\n",
    "print(f\"Exit temperature = {engine.T(nozzle.length) - 273.15} °C\")\n",
    "print(f\"Exit Mach number = {engine.M(nozzle.length)}\")"
   ]
  },
  {
   "cell_type": "markdown",
   "metadata": {},
   "source": [
    "## Running a cooling system analysis\n",
    "\n",
    "(to be added)"
   ]
  },
  {
   "cell_type": "code",
   "execution_count": null,
   "metadata": {},
   "outputs": [],
   "source": []
  }
 ],
 "metadata": {
  "kernelspec": {
   "display_name": "Python 3",
   "language": "python",
   "name": "python3"
  },
  "language_info": {
   "codemirror_mode": {
    "name": "ipython",
    "version": 3
   },
   "file_extension": ".py",
   "mimetype": "text/x-python",
   "name": "python",
   "nbconvert_exporter": "python",
   "pygments_lexer": "ipython3",
   "version": "3.8.5"
  }
 },
 "nbformat": 4,
 "nbformat_minor": 4
}
