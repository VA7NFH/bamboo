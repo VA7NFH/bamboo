{
 "cells": [
  {
   "cell_type": "markdown",
   "metadata": {},
   "source": [
    "# Introduction to Bamboo\n",
    "\n",
    "*May 2021*\n",
    "\n",
    "Bamboo is Python package for modelling the cooling systems of liquid rocket engines. \n",
    "\n",
    "Most of its functionality revolves around the bamboo.main.Engine class. Full documentation is available at https://cuspaceflight.github.io/bamboo/.\n",
    "\n",
    "### Contents: \n",
    "- <a href='#Simple Engine Example'>Simple Engine Example</a>\n",
    "- <a href='#Running a cooling system analysis'>Running a cooling system analysis</a>\n",
    "- <a href='#Running a stress analysis'>Running a stress analysis</a>"
   ]
  },
  {
   "cell_type": "markdown",
   "metadata": {},
   "source": [
    "##  <ins> *Simple Engine Example* </ins> <a id='Simple Engine Example'></a>\n",
    "\n",
    "We will start with an example of creating an Engine. \n",
    "\n",
    "To create an Engine object, we need to first create three sub-objects: \n",
    "- A <b>PerfectGas</b> object\n",
    "- A <b>ChamberConditions</b> object\n",
    "- A <b>Nozzle</b> object\n",
    "\n",
    "We will first import bamboo and any other modules we need, and will then specify the operating conditions for our engine."
   ]
  },
  {
   "cell_type": "code",
   "execution_count": null,
   "metadata": {
    "scrolled": true
   },
   "outputs": [],
   "source": [
    "import bamboo as bam\n",
    "import numpy as np\n",
    "import matplotlib.pyplot as plt\n",
    "import thermo\n",
    "\n",
    "'''Chosen operating points'''\n",
    "mdot = 4.757        #Mass flow rate (kg/s)\n",
    "p_amb = 1.01325e5   #Ambient pressure (Pa). \n",
    "pc = 10e5           #Chamber pressure (Pa)\n",
    "\n",
    "'''From ProPEP 3 I got the following data on my exhaust gas'''\n",
    "gamma = 1.264               #Ratio of specific heats cp/cv (used to specify our PerfectGas object)\n",
    "molecular_weight = 21.627   #Molecular weight of the exhaust gas (kg/kmol) (used to specify our PerfectGas object)\n",
    "Tc = 2458.89                #Chamber temperature (K) - obtained from ProPEP 3"
   ]
  },
  {
   "cell_type": "markdown",
   "metadata": {},
   "source": [
    "### PerfectGas and ChamberConditions\n",
    "\n",
    "To define our perfect gas, we must specify two of its properties. See the documentation available options. As of writing, the available keyword arguments are 'gamma', 'molecular_weight' and 'cp'.\n",
    "\n",
    "To define our ChamberConditions, we need the mass flow rate 'mdot', the chamber stagnation pressure 'p0', and the chamber stagnation temperature 'T0'."
   ]
  },
  {
   "cell_type": "code",
   "execution_count": null,
   "metadata": {
    "scrolled": true
   },
   "outputs": [],
   "source": [
    "perfect_gas = bam.PerfectGas(gamma = gamma, molecular_weight = molecular_weight)\n",
    "chamber = bam.ChamberConditions(pc, Tc, mdot)"
   ]
  },
  {
   "cell_type": "markdown",
   "metadata": {},
   "source": [
    "### Nozzle\n",
    "\n",
    "To define the Nozzle, we have two options. \n",
    "- Directly specify the throat and exit area (At and Ae respectively)\n",
    "- Use the Nozzle.from_engine_components() method, which will select At to just choke the nozzle, and Ae to match a given exit pressure, 'p_amb'. "
   ]
  },
  {
   "cell_type": "code",
   "execution_count": null,
   "metadata": {
    "scrolled": false
   },
   "outputs": [],
   "source": [
    "#Directly specifying At and Ae\n",
    "\n",
    "'''\n",
    "chosen_At = 0.007\n",
    "chosen_Ae = 0.05\n",
    "\n",
    "nozzle = bam.Nozzle(chosen_At, chosen_Ae, type = \"rao\", length_fraction = 0.8)\n",
    "nozzle.plot_nozzle()\n",
    "plt.title(\"Directly specified throat and exit area\")\n",
    "plt.show()\n",
    "'''\n",
    "\n",
    "#Deriving Ae and At from the operating conditions and exit pressure\n",
    "nozzle = bam.Nozzle.from_engine_components(perfect_gas, chamber, p_amb)\n",
    "nozzle.plot_nozzle()\n",
    "plt.title(\"Derive nozzle dimensions from exhaust gas, chamber conditions, and exit pressure\")\n",
    "plt.show()\n",
    "\n",
    "#Print the nozzle parameters\n",
    "print(nozzle)"
   ]
  },
  {
   "cell_type": "markdown",
   "metadata": {},
   "source": [
    "### Creating the Engine object\n",
    "\n",
    "We can now create the Engine object with relative ease:"
   ]
  },
  {
   "cell_type": "code",
   "execution_count": null,
   "metadata": {
    "scrolled": true
   },
   "outputs": [],
   "source": [
    "engine = bam.Engine(perfect_gas, chamber, nozzle)"
   ]
  },
  {
   "cell_type": "markdown",
   "metadata": {},
   "source": [
    "We can now get some properties of the Engine:\n",
    "\n",
    "(note that almost all calculations made with the engine assume isentropic, 1-dimensional, perfect gas relations. Hence, the results may be different to those calculated using reacting flow e.g. from NASA's CEA, or ProPEP)."
   ]
  },
  {
   "cell_type": "code",
   "execution_count": null,
   "metadata": {
    "scrolled": true
   },
   "outputs": [],
   "source": [
    "print(f\"Sea level thrust = {engine.thrust(1e5)/1000} kN\")\n",
    "print(f\"Sea level Isp = {engine.isp(1e5)} s\")\n",
    "\n",
    "print(f\"\\nThroat pressure = {engine.p(0)/1e5} bar\")\n",
    "print(f\"Throat temperature = {engine.T(0) - 273.15} °C\")\n",
    "print(f\"Throat Mach number = {engine.M(0)}\")\n",
    "\n",
    "print(f\"\\nExit pressure = {engine.p(nozzle.length)/1e5} bar\")\n",
    "print(f\"Exit temperature = {engine.T(nozzle.length) - 273.15} °C\")\n",
    "print(f\"Exit Mach number = {engine.M(nozzle.length)}\")"
   ]
  },
  {
   "cell_type": "markdown",
   "metadata": {},
   "source": [
    "## <ins> *Running a cooling system analysis* </ins> <a id='Running a cooling system analysis'></a>\n",
    "\n",
    "To run a cooling system analysis, we need to specify the following:\n",
    "- Transport properties of the exhaust gas (and the coolant if applicable), using the **TransportProperties** class.\n",
    "- Engine geometry, using **Engine.add_geometry()**.\n",
    "- Cooling jacket specifications (if applicable), using **Engine.add_cooling_jacket()**.\n",
    "- Any ablative* liners, using **Engine.add_ablative()**.\n",
    "- Material properties of the engine wall and any ablatives, using the **Material** class.\n",
    "\n",
    "*Note that a more appropriate term might be 'refractory'. The actual ablation of 'ablatives' is not modelled right now, so they simply act as thermal insulators."
   ]
  },
  {
   "cell_type": "markdown",
   "metadata": {},
   "source": [
    "### Exhaust gas and coolant transport properties\n",
    "\n",
    "You will need to decide on a way to calculate your exhaust gas and coolant transport properties. <b>CoolProp</b> and <b>thermo</b> are two Python modules that can help with this. In this example we'll use <b>thermo</b>.\n",
    "\n",
    "You can either choose to use constants for your transport properties (type = 'constants'), or functions (type = 'functions'). If using functions, the function arguments must be in the form <b>func(T, p)</b> where T is the temperature in K and p is pressure in Pa."
   ]
  },
  {
   "cell_type": "code",
   "execution_count": null,
   "metadata": {
    "scrolled": true
   },
   "outputs": [],
   "source": [
    "#We'll set up a very crude exhaust gas model using thermo.\n",
    "thermo_gas = thermo.mixture.Mixture(['N2', 'H2O', 'CO2'], zs = [1, 0.2, 0.2])  \n",
    "\n",
    "#Setup the exhaust gas transport properties\n",
    "def Pr_gas(T, p):\n",
    "    thermo_gas.calculate(T, p)\n",
    "    return thermo_gas.Prg\n",
    "\n",
    "def mu_gas(T, p):\n",
    "    thermo_gas.calculate(T, p)\n",
    "    return thermo_gas.mug\n",
    "\n",
    "def k_gas(T, p):\n",
    "    thermo_gas.calculate(T, p)\n",
    "    return thermo_gas.kg\n",
    "\n",
    "gas_transport = bam.cooling.TransportProperties(type = \"functions\",\n",
    "                                                Pr = Pr_gas,\n",
    "                                                mu = mu_gas,\n",
    "                                                k = k_gas)\n",
    "\n",
    "#Set up the coolant transport properties\n",
    "thermo_coolant = thermo.chemical.Chemical('isopropanol')\n",
    "\n",
    "def Pr_coolant(T, p):\n",
    "    thermo_coolant.calculate(T, p)\n",
    "    return thermo_coolant.Prl\n",
    "\n",
    "def mu_coolant(T, p):\n",
    "    thermo_coolant.calculate(T, p)\n",
    "    return thermo_coolant.mul\n",
    "\n",
    "def k_coolant(T, p):\n",
    "    thermo_coolant.calculate(T, p)\n",
    "    return thermo_coolant.kl\n",
    "\n",
    "def cp_coolant(T, p):\n",
    "    #I'm fixing temperature at 320K, because I don't entirely trust thermo's value's for cp\n",
    "    thermo_coolant.calculate(T = 320, P = p)   \n",
    "    return thermo_coolant.Cpl\n",
    "\n",
    "def rho_coolant(T, p):\n",
    "    thermo_coolant.calculate(T, p)\n",
    "    return thermo_coolant.rhol\n",
    "\n",
    "coolant_transport = bam.cooling.TransportProperties(type = \"functions\",\n",
    "                                                    Pr = Pr_coolant,\n",
    "                                                    mu = mu_coolant,\n",
    "                                                    k = k_coolant,\n",
    "                                                    cp = cp_coolant,\n",
    "                                                    rho = rho_coolant)\n",
    "\n",
    "#Add the gas transport properties to the engine\n",
    "engine.add_exhaust_transport(gas_transport)\n",
    "\n",
    "#Coolant transport properties will get used later when creating adding the CoolingJacket to the engine"
   ]
  },
  {
   "cell_type": "markdown",
   "metadata": {},
   "source": [
    "Alternatively, we can also use constants for our transport properties:"
   ]
  },
  {
   "cell_type": "code",
   "execution_count": null,
   "metadata": {},
   "outputs": [],
   "source": [
    "'''\n",
    "gas_transport = bam.cooling.TransportProperties(type = \"constants\", \n",
    "                                                mu = 7.5e-5, \n",
    "                                                k =  0.20, \n",
    "                                                Pr = 0.62)\n",
    "\n",
    "coolant_transport = bam.cooling.TransportProperties(type = \"constants\", \n",
    "                                                    mu = 2.4e-3, \n",
    "                                                    k = 0.14, \n",
    "                                                    cp = 3000, \n",
    "                                                    rho = 800,\n",
    "                                                    Pr = 7.56)\n",
    "\n",
    "'''"
   ]
  },
  {
   "cell_type": "markdown",
   "metadata": {},
   "source": [
    "### Engine geometry\n"
   ]
  },
  {
   "cell_type": "code",
   "execution_count": null,
   "metadata": {
    "scrolled": false
   },
   "outputs": [],
   "source": [
    "'''Specify the geometry of the engine'''\n",
    "Ac = np.pi*0.1**2               #Chamber cross-sectional area (m^2) - we'll use a 0.1 m radius.\n",
    "L_star = 1.5                    #Use the idea of L*: L_star = Volume_c/Area_t\n",
    "chamber_length = L_star*nozzle.At/Ac\n",
    "inner_wall_thickness = 2e-3           #Thickness of engine wall (m)\n",
    "\n",
    "'''Add the geometry to the engine and plot it'''\n",
    "engine.add_geometry(chamber_length = chamber_length, \n",
    "                    chamber_area = Ac,\n",
    "                    inner_wall_thickness = inner_wall_thickness)\n",
    "\n",
    "engine.plot_geometry()\n",
    "plt.title(\"Engine geometry - by default the wall thickness is shown to scale\")\n",
    "\n",
    "'''If we want we can specify a variable wall thicknesses'''\n",
    "#Make an array of equally spaced thickness datapoints\n",
    "sinusoidal_thickness = 0.02 + 0.02*np.sin(np.linspace(0, 4*np.pi, 100)) \n",
    "\n",
    "#The program will stretch the thickness array across the whole engine  \n",
    "engine.add_geometry(chamber_length = chamber_length, \n",
    "                    chamber_area = Ac,\n",
    "                    inner_wall_thickness = sinusoidal_thickness)\n",
    "engine.plot_geometry()\n",
    "plt.title(\"Sinusoidal wall thickness\")\n",
    "plt.show()\n",
    "\n",
    "#(Add the normal geometry back for later)\n",
    "engine.add_geometry(chamber_length = chamber_length, \n",
    "                    chamber_area = Ac,\n",
    "                    inner_wall_thickness = inner_wall_thickness)"
   ]
  },
  {
   "cell_type": "markdown",
   "metadata": {},
   "source": [
    "### Cooling jacket"
   ]
  },
  {
   "cell_type": "code",
   "execution_count": null,
   "metadata": {
    "scrolled": true
   },
   "outputs": [],
   "source": [
    "'''Cooling jacket properties'''\n",
    "inlet_T = 298.15  #Coolant inlet temperature (K)\n",
    "inlet_p0 = 30e5   #Coolant inlet stagnation pressure (bar)\n",
    "OF_ratio = 3.5    #Oxidiser/fuel mass ratio\n",
    "mdot_coolant = mdot/(OF_ratio + 1) #Mass flow rate of coolant\n",
    "inner_wall_material = bam.materials.CopperC700\n",
    "\n",
    "'''Add a spiral cooling jacket to the engine'''\n",
    "#See the documentation for a full list of cooling jacket options\n",
    "#You can also alternatively use vertical channels, or have the cooling jacket on present over a finite range of the engine.\n",
    "engine.add_cooling_jacket(inner_wall_material, \n",
    "                               inlet_T, \n",
    "                               inlet_p0, \n",
    "                               coolant_transport, \n",
    "                               mdot_coolant, \n",
    "                               configuration = \"spiral\", \n",
    "                               channel_width = 0.02,\n",
    "                               channel_height = 0.01)\n",
    "\n",
    "\n",
    "#We can see a rough representation of the cooling jacket on the geometry plot \n",
    "engine.plot_geometry()\n",
    "plt.show()"
   ]
  },
  {
   "cell_type": "markdown",
   "metadata": {},
   "source": [
    "### Ablative*\n",
    "*note that right now, ablatives are only modelled as thermal insulators. If a wall material is specified for the ablative, it will override the inner wall material specified for the cooling jacket, in the area where the ablative is applied."
   ]
  },
  {
   "cell_type": "code",
   "execution_count": null,
   "metadata": {
    "scrolled": false
   },
   "outputs": [],
   "source": [
    "#Choose the material properties for our ablative\n",
    "ablative_material = bam.materials.Graphite\n",
    "\n",
    "#Note the 'regression_rate' value doesn't affect anything right now\n",
    "#By default the program will use an ablative along the whole engine,\n",
    "#and will fill up the gap between the nozzle contour and chamber radius with ablative\n",
    "engine.add_ablative(ablative_material,\n",
    "                    inner_wall_material)\n",
    "\n",
    "engine.plot_geometry()\n",
    "\n",
    "#We can also specify the thickness (which can be variable, just like for Engine.add_geometry()), \n",
    "#and the range of x values over which we want the ablative to be present\n",
    "\n",
    "#In this example we make the ablative only present in the nozzle, and make it thickest around the middle.\n",
    "engine.add_ablative(ablative_material,\n",
    "                    inner_wall_material,\n",
    "                    xs = [engine.geometry.x_chamber_end, engine.geometry.x_max],\n",
    "                    ablative_thickness = [0.0, 0.02, 0.0])\n",
    "\n",
    "engine.plot_geometry()\n",
    "plt.show()\n",
    "\n",
    "#(Replace the ablative with the 1st version - this is the one we'll analyse later)\n",
    "engine.add_ablative(ablative_material,\n",
    "                    inner_wall_material)\n"
   ]
  },
  {
   "cell_type": "markdown",
   "metadata": {},
   "source": [
    "## Running a steady state heating simulation\n",
    "\n",
    "We can now run a steady state heating simulation with relative ease. This uses the idea of thermal circuits to find the heat transfer through the wall, and temperatures at each point."
   ]
  },
  {
   "cell_type": "code",
   "execution_count": null,
   "metadata": {
    "scrolled": false
   },
   "outputs": [],
   "source": [
    "#Run the heating analysis - see the documentation for details on the various arguments.\n",
    "cooling_data = engine.steady_heating_analysis(h_gas_model = \"bartz-sigma\", h_coolant_model = \"sieder-tate\")\n",
    "\n",
    "#Print of the keys so we can see what data is available\n",
    "print(\"\")\n",
    "print(cooling_data.keys())"
   ]
  },
  {
   "cell_type": "markdown",
   "metadata": {},
   "source": [
    "Plot the results:"
   ]
  },
  {
   "cell_type": "code",
   "execution_count": null,
   "metadata": {
    "scrolled": false
   },
   "outputs": [],
   "source": [
    "#Print the final coolant temperatures in each case:\n",
    "print(f\"Final x position = {cooling_data['x'][-1]}\") \n",
    "print(f\"Coolant exit temperature: {cooling_data['T_coolant'][-1]} K\")\n",
    "\n",
    "#Plot the geometry again so we can compare it\n",
    "engine.plot_geometry()\n",
    "\n",
    "#Use the built in plotting functions to quickly generate some plots\n",
    "bam.plot.plot_temperatures(cooling_data)\n",
    "bam.plot.plot_temperatures(cooling_data, show_ablative = True, show_gas = True)\n",
    "\n",
    "bam.plot.plot_jacket_pressure(cooling_data)\n",
    "bam.plot.plot_coolant_properties(cooling_data)"
   ]
  },
  {
   "cell_type": "markdown",
   "metadata": {},
   "source": [
    "##  <ins> *Running a stress analysis* </ins> <a id='Running a stress analysis'></a>\n",
    "\n",
    "As of now, some stress analysis features don't fully work with spiralling cooling channels. So we'll create a new engine that uses 'vertical' cooling channels instead. \n",
    "\n",
    "Additional engine properties need to be specified to run the stress analysis, including:\n",
    "- Outer wall thickness and material for the cooling jacket\n"
   ]
  },
  {
   "cell_type": "code",
   "execution_count": null,
   "metadata": {
    "scrolled": true
   },
   "outputs": [],
   "source": [
    "#Respecify the cooling jacket, but this time with the outer wall specified.\n",
    "outer_wall_material = bam.materials.StainlessSteel304\n",
    "outer_wall_thickness = 4e-3\n",
    "\n",
    "engine.add_geometry(chamber_length = chamber_length,\n",
    "                    chamber_area = Ac, \n",
    "                    inner_wall_thickness = inner_wall_thickness, \n",
    "                    outer_wall_thickness = outer_wall_thickness)\n",
    "\n",
    "engine.add_cooling_jacket(inner_wall_material, \n",
    "                          inlet_T, \n",
    "                          inlet_p0, \n",
    "                          coolant_transport, \n",
    "                          mdot_coolant, \n",
    "                          configuration = \"vertical\",\n",
    "                          channel_height = 0.001, \n",
    "                          blockage_ratio = 0.5, \n",
    "                          number_of_ribs = 20,\n",
    "                          outer_wall_material = outer_wall_material)\n",
    "\n",
    "engine.plot_geometry()\n",
    "plt.show()\n",
    "\n",
    "new_cooling_data = engine.steady_heating_analysis()"
   ]
  },
  {
   "cell_type": "code",
   "execution_count": null,
   "metadata": {
    "scrolled": true
   },
   "outputs": [],
   "source": [
    "#Steady state stress analysis\n",
    "steady_stress = engine.run_stress_analysis(heating_result = new_cooling_data, condition = \"steady\")\n",
    "\n",
    "#Transient stress analysis\n",
    "transient_stress = engine.run_stress_analysis(heating_result = new_cooling_data, condition= \"transient\", T_amb = inlet_T)"
   ]
  },
  {
   "cell_type": "code",
   "execution_count": null,
   "metadata": {},
   "outputs": [],
   "source": [
    "#Show what keys are available from the resulting data\n",
    "print(\"\")\n",
    "print(steady_stress.keys())\n",
    "print(\"\")\n",
    "print(transient_stress.keys())"
   ]
  },
  {
   "cell_type": "code",
   "execution_count": null,
   "metadata": {},
   "outputs": [],
   "source": [
    "#Graph results - copied from Henry Free's stress_example.py\n",
    "xs = new_cooling_data[\"x\"]\n",
    "threshold = 0.5\n",
    "\n",
    "#If a hoop or inner expansion stress exceeds this proportion of nominal yield stress,\n",
    "#then show the nominal yield stress on the plot to make it clear this could be problematic\n",
    "fig1, axs1 = plt.subplots(figsize=(12, 7))\n",
    "fig2, axs2 = plt.subplots(figsize=(12, 7))\n",
    "fig3, axs3 = plt.subplots(figsize=(12, 7))\n",
    "\n",
    "axs1.plot(xs, steady_stress[\"thermal_stress\"]/1E6, label = \"Thermal stress\")\n",
    "axs1.plot(xs, steady_stress[\"yield_adj\"]/1E6, label = \"Temperature compensated yield stress\")\n",
    "axs1.set_title(\"Steady state operation: Inner liner\")\n",
    "axs1.set_xlabel(\"Axial displacement from throat $(m)$\")\n",
    "axs1.set_ylabel(\"Stress $(MPa)$\")\n",
    "axs1.set_ylim([0, None])\n",
    "axs1.legend(bbox_to_anchor = (0, -0.16), loc = \"lower left\")\n",
    "\n",
    "axs1_2 = axs1.twinx()\n",
    "axs1_2.plot(xs, steady_stress[\"deltaT_wall\"], color = \"red\", label = \"Coolant side to chamber side $\\Delta T$\")\n",
    "axs1_2.set_ylabel(\"Temperature difference ($\\Delta K$)\")\n",
    "axs1_2.set_ylim([0, None])\n",
    "axs1_2.legend(bbox_to_anchor = (0, -0.22), loc = \"lower left\")\n",
    "\n",
    "fig1.subplots_adjust(bottom = 0.16)\n",
    "\n",
    "axs2.plot(xs, steady_stress[\"stress_inner_hoop_steady\"]/1E6, label = \"Inner liner, prior to ignition\")\n",
    "axs2.plot(xs, transient_stress[\"stress_inner_hoop_transient\"]/1E6, label = \"Inner liner, after ignition\")\n",
    "axs2.plot(xs, steady_stress[\"stress_outer_hoop\"]/1E6, label = \"Outer liner\")\n",
    "ymax2 = axs2.get_ylim()[1]\n",
    "\n",
    "if np.max(steady_stress[\"stress_inner_hoop_steady\"]) > threshold*inner_wall_material.sigma_y or \\\n",
    "   np.max(transient_stress[\"stress_inner_hoop_transient\"]) > threshold*inner_wall_material.sigma_y:\n",
    "    axs2i = axs2.twinx()\n",
    "    axs2i.get_yaxis().set_visible(False)\n",
    "    axs2i.hlines(inner_wall_material.sigma_y/1E6, xs[0], xs[-1], linestyles = \"dashed\", color = \"indianred\",\n",
    "                label = \"Nominal inner liner yield stress\")\n",
    "    ymax2 = max((ymax2, 1.1*inner_wall_material.sigma_y/1E6))\n",
    "    axs2i.set_ylim(0, ymax2)\n",
    "    axs2i.legend(bbox_to_anchor = (0.7, -0.11), loc = \"lower left\")\n",
    "\n",
    "if np.max(steady_stress[\"stress_outer_hoop\"]) > threshold*outer_wall_material.sigma_y:\n",
    "    axs2o = axs2.twinx()\n",
    "    axs2o.get_yaxis().set_visible(False)\n",
    "    axs2o.hlines(outer_wall_material.sigma_y/1E6, xs[0], xs[-1], linestyles = \"dashed\", color = \"maroon\",\n",
    "                label = \"Nominal outer liner yield stress\")\n",
    "    ymax2 = max((ymax2, 1.1*outer_wall_material.sigma_y/1E6))\n",
    "    try:\n",
    "        axs2i.set_ylim(0, ymax2)\n",
    "    except NameError:\n",
    "        pass\n",
    "    axs2o.set_ylim(0, ymax2)\n",
    "    axs2o.legend(bbox_to_anchor = (0.7, -0.15), loc = \"lower left\")\n",
    "\n",
    "axs2.set_title(\"Hoop stresses\")\n",
    "axs2.set_xlabel(\"Axial displacement from throat $(m)$\")\n",
    "axs2.set_ylabel(\"Stress $(MPa)$\")\n",
    "axs2.legend(bbox_to_anchor = (0, -0.19), loc = \"lower left\")\n",
    "axs2.set_ylim([0, ymax2])\n",
    "\n",
    "fig2.subplots_adjust(bottom = 0.14)\n",
    "\n",
    "axs3.plot(xs, np.abs(transient_stress[\"stress_inner_IE\"]/1E6), label = \"Inner liner\")\n",
    "axs3.plot(xs, np.abs(transient_stress[\"stress_outer_IE\"]/1E6), label = \"Outer liner\")\n",
    "ymax3 = axs3.get_ylim()[1]\n",
    "\n",
    "if np.max(np.abs(transient_stress[\"stress_inner_IE\"])) > threshold*inner_wall_material.sigma_y:\n",
    "    axs3i = axs3.twinx()\n",
    "    axs3i.get_yaxis().set_visible(False)\n",
    "    axs3i.hlines(inner_wall_material.sigma_y/1E6, xs[0], xs[-1], linestyles = \"dashed\", color = \"indianred\",\n",
    "                label = \"Nominal inner liner yield stress\")\n",
    "    ymax3 = max((ymax3, 1.1*inner_wall_material.sigma_y/1E6))\n",
    "    axs3i.set_ylim(0, ymax3)\n",
    "    axs3i.legend(bbox_to_anchor = (0.7, -0.11), loc = \"lower left\")\n",
    "\n",
    "if np.max(np.abs(transient_stress[\"stress_outer_IE\"])) > threshold*outer_wall_material.sigma_y:\n",
    "    axs3o = axs3.twinx()\n",
    "    axs3o.get_yaxis().set_visible(False)\n",
    "    axs3o.hlines(outer_wall_material.sigma_y/1E6, xs[0], xs[-1], linestyles = \"dashed\", color = \"maroon\",\n",
    "                label = \"Nominal outer liner yield stress\")\n",
    "    ymax3 = max((ymax3, 1.1*outer_wall_material.sigma_y/1E6))\n",
    "    try:\n",
    "        axs3i.set_ylim(0, ymax3)\n",
    "    except NameError:\n",
    "        pass\n",
    "    axs3o.set_ylim(0, ymax3)\n",
    "    axs3o.legend(bbox_to_anchor = (0.7, -0.15), loc = \"lower left\")\n",
    "\n",
    "axs3.set_title(\"Absolute stresses due to constrained inner liner expansion\")\n",
    "axs3.set_xlabel(\"Axial displacement from throat $(m)$\")\n",
    "axs3.set_ylabel(\"Stress $(MPa)$\")\n",
    "axs3.legend(bbox_to_anchor = (0, -0.15), loc = \"lower left\")\n",
    "axs3.set_ylim([0, ymax3])\n",
    "\n",
    "fig3.subplots_adjust(bottom = 0.12)\n",
    "\n",
    "plt.show()"
   ]
  }
 ],
 "metadata": {
  "kernelspec": {
   "display_name": "Python 3",
   "language": "python",
   "name": "python3"
  },
  "language_info": {
   "codemirror_mode": {
    "name": "ipython",
    "version": 3
   },
   "file_extension": ".py",
   "mimetype": "text/x-python",
   "name": "python",
   "nbconvert_exporter": "python",
   "pygments_lexer": "ipython3",
   "version": "3.8.5"
  }
 },
 "nbformat": 4,
 "nbformat_minor": 4
}
